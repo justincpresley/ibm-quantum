{
 "cells": [
  {
   "cell_type": "code",
   "execution_count": null,
   "id": "01c69493-3cc3-4240-8434-eb8461632730",
   "metadata": {},
   "outputs": [],
   "source": [
    "#initialization\n",
    "import matplotlib.pyplot as plt\n",
    "import numpy as np\n",
    "\n",
    "# importing Qiskit\n",
    "from qiskit import IBMQ, Aer, assemble, transpile\n",
    "from qiskit import QuantumCircuit, ClassicalRegister, QuantumRegister\n",
    "from qiskit.providers.ibmq import least_busy\n",
    "\n",
    "from qiskit import *\n",
    "from math import pi\n",
    "from qiskit.visualization import *\n",
    "from math import *\n",
    "\n",
    "# import basic plot tools\n",
    "from qiskit.visualization import plot_histogram"
   ]
  },
  {
   "cell_type": "code",
   "execution_count": null,
   "id": "dbc2f32c-0599-401e-bb43-01e601be0540",
   "metadata": {},
   "outputs": [],
   "source": [
    "# Let's define the oracle\n",
    "def minttwo(nqubits):\n",
    "    # nqubits should be 3\n",
    "    qc = QuantumCircuit(nqubits)\n",
    "    \n",
    "    # Apply 1st and 3rd\n",
    "    qc.h(2)\n",
    "    qc.mct([0], 2)  # multi-controlled-toffoli\n",
    "    qc.h(2)\n",
    "    \n",
    "    # Apply 1st and 2nd\n",
    "    qc.h(2)\n",
    "    qc.mct([1], 2)  # multi-controlled-toffoli\n",
    "    qc.h(2)\n",
    "        \n",
    "    # We will return the oracle as a gate\n",
    "    U_w = qc.to_gate()\n",
    "    U_w.name = \"U$_w$\"\n",
    "    return U_w"
   ]
  },
  {
   "cell_type": "code",
   "execution_count": null,
   "id": "34b7383e-9044-4c30-94fd-ecffff53bcac",
   "metadata": {},
   "outputs": [],
   "source": [
    "# Let's define the diffusion operator\n",
    "def diffuser(nqubits):\n",
    "    qc = QuantumCircuit(nqubits)\n",
    "    # Apply transformation |s> -> |00..0> (H-gates)\n",
    "    for qubit in range(nqubits):\n",
    "        qc.h(qubit)\n",
    "    # Apply transformation |00..0> -> |11..1> (X-gates)\n",
    "    for qubit in range(nqubits):\n",
    "        qc.x(qubit)\n",
    "    # Do multi-controlled-Z gate: equivalent to multi-controlled toffoli sandwished between H gates\n",
    "    qc.h(nqubits-1)\n",
    "    qc.mct(list(range(nqubits-1)), nqubits-1)  # multi-controlled-toffoli\n",
    "    qc.h(nqubits-1)\n",
    "    # Apply transformation |11..1> -> |00..0>\n",
    "    for qubit in range(nqubits):\n",
    "        qc.x(qubit)\n",
    "    # Apply transformation |00..0> -> |s>\n",
    "    for qubit in range(nqubits):\n",
    "        qc.h(qubit)\n",
    "    # We will return the diffuser as a gate\n",
    "    U_s = qc.to_gate()\n",
    "    U_s.name = \"U$_s$\"\n",
    "    return U_s"
   ]
  },
  {
   "cell_type": "code",
   "execution_count": null,
   "id": "d724ca3a-93b4-4b11-8124-5ef12d7ed691",
   "metadata": {},
   "outputs": [],
   "source": [
    "# This is the full algorithm\n",
    "var_qubits = QuantumRegister(3, name='v')\n",
    "cbits = ClassicalRegister(3, name='cbits')\n",
    "qc = QuantumCircuit(var_qubits, cbits)\n",
    "\n",
    "# Initialize qubits in state |s>\n",
    "qc.h(var_qubits)\n",
    "\n",
    "# Apply our oracle\n",
    "qc.append(minttwo(3), [0,1,2])\n",
    "\n",
    "# Apply our diffuser\n",
    "qc.append(diffuser(3), [0,1,2])\n",
    "\n",
    "# Visual Separation\n",
    "qc.barrier()\n",
    "\n",
    "# Measure the variable qubits\n",
    "qc.measure(var_qubits, cbits)\n",
    "\n",
    "qc.draw(fold=-1)"
   ]
  },
  {
   "cell_type": "code",
   "execution_count": null,
   "id": "ca93b17c-d21b-44ab-b8d3-0b984a0d2a8c",
   "metadata": {},
   "outputs": [],
   "source": [
    "# Simulate and plot results\n",
    "aer_simulator = Aer.get_backend('aer_simulator')\n",
    "transpiled_qc = transpile(qc, aer_simulator)\n",
    "qobj = assemble(transpiled_qc)\n",
    "result = aer_simulator.run(qobj).result()\n",
    "plot_histogram(result.get_counts())\n",
    "\n",
    "# Actual quantum computer to get results\n",
    "#provider = IBMQ.load_account()\n",
    "#backend = provider.get_backend('ibmq_manila')\n",
    "#results = execute(qc,backend,shots=1024).result().get_counts()\n",
    "#plot_histogram(results)"
   ]
  },
  {
   "cell_type": "markdown",
   "id": "9d3d4f4e-3938-4f0e-83eb-bf7cea87edc2",
   "metadata": {},
   "source": [
    "Answers found by Grover's are: 101 and 110 since they have the highest measurement probabilities."
   ]
  }
 ],
 "metadata": {
  "kernelspec": {
   "display_name": "Qiskit v0.35.0 (ipykernel)",
   "language": "python",
   "name": "python3"
  },
  "language_info": {
   "codemirror_mode": {
    "name": "ipython",
    "version": 3
   },
   "file_extension": ".py",
   "mimetype": "text/x-python",
   "name": "python",
   "nbconvert_exporter": "python",
   "pygments_lexer": "ipython3",
   "version": "3.8.13"
  },
  "widgets": {
   "application/vnd.jupyter.widget-state+json": {
    "state": {},
    "version_major": 2,
    "version_minor": 0
   }
  }
 },
 "nbformat": 4,
 "nbformat_minor": 5
}
