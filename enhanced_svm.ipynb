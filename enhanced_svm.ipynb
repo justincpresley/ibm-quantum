{
 "cells": [
  {
   "cell_type": "code",
   "execution_count": null,
   "id": "34d268ae-3c48-4da2-9dec-1e677adf217f",
   "metadata": {},
   "outputs": [],
   "source": [
    "from qiskit import Aer, BasicAer\n",
    "from qiskit.circuit.library import ZZFeatureMap\n",
    "from sklearn.svm import SVC\n",
    "from sklearn.metrics import accuracy_score\n",
    "from qiskit_machine_learning.algorithms import QSVC\n",
    "from qiskit_machine_learning.kernels import QuantumKernel\n",
    "from qiskit_machine_learning.datasets import breast_cancer"
   ]
  },
  {
   "cell_type": "code",
   "execution_count": null,
   "id": "f385e312-03b2-48f1-b423-d371c0c16c92",
   "metadata": {},
   "outputs": [],
   "source": [
    "from qiskit.utils import algorithm_globals\n",
    "algorithm_globals.random_seed = 12345\n",
    "\n",
    "training_size = 20\n",
    "test_size = 10\n",
    "feature_dim = 2\n",
    "train_data, train_label, test_data, test_label = breast_cancer(training_size, test_size, feature_dim, plot_data=True)"
   ]
  },
  {
   "cell_type": "code",
   "execution_count": null,
   "id": "4facd9e6-cd3e-4fa5-ba3f-c6a6847b9486",
   "metadata": {},
   "outputs": [],
   "source": [
    "#feature_map = ZZFeatureMap(feature_dimension=feature_dim, reps=2, entanglement='linear')\n",
    "#feature_map = ZZFeatureMap(feature_dimension=feature_dim, reps=3, entanglement='linear')\n",
    "#feature_map = ZZFeatureMap(feature_dimension=feature_dim, reps=2, entanglement='full')\n",
    "feature_map = ZZFeatureMap(feature_dimension=feature_dim, reps=3, entanglement='full')\n",
    "\n",
    "qkernel = QuantumKernel(feature_map=feature_map, quantum_instance=BasicAer.get_backend('statevector_simulator'))\n",
    "\n",
    "#qsvc = QSVC(quantum_kernel=qkernel)\n",
    "qsvc = SVC(kernel=qkernel.evaluate)\n",
    "qsvc.fit(train_data,  [int(x[1]) for x in train_label])\n",
    "qsvc.score(test_data, [int(x[1]) for x in test_label])"
   ]
  },
  {
   "cell_type": "code",
   "execution_count": null,
   "id": "b46b2b56-1444-4213-a254-d6b3391ea18c",
   "metadata": {},
   "outputs": [],
   "source": [
    "svc = SVC(kernel='linear', C = 1.0)\n",
    "svc.fit(train_data,  [int(x[1]) for x in train_label])\n",
    "svc.score(test_data, [int(x[1]) for x in test_label])"
   ]
  }
 ],
 "metadata": {
  "kernelspec": {
   "display_name": "Qiskit v0.35.0 (ipykernel)",
   "language": "python",
   "name": "python3"
  },
  "language_info": {
   "codemirror_mode": {
    "name": "ipython",
    "version": 3
   },
   "file_extension": ".py",
   "mimetype": "text/x-python",
   "name": "python",
   "nbconvert_exporter": "python",
   "pygments_lexer": "ipython3",
   "version": "3.8.13"
  },
  "widgets": {
   "application/vnd.jupyter.widget-state+json": {
    "state": {},
    "version_major": 2,
    "version_minor": 0
   }
  }
 },
 "nbformat": 4,
 "nbformat_minor": 5
}
