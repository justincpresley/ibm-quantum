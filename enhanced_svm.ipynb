{
 "cells": [
  {
   "cell_type": "code",
   "execution_count": null,
   "id": "34d268ae-3c48-4da2-9dec-1e677adf217f",
   "metadata": {},
   "outputs": [],
   "source": [
    "from qiskit import Aer\n",
    "from qiskit.circuit.library import ZZFeatureMap\n",
    "from sklearn.svm import SVC\n",
    "from sklearn.metrics import accuracy_score\n",
    "from qiskit_machine_learning.algorithms import QSVC\n",
    "from qiskit_machine_learning.kernels import QuantumKernel\n",
    "from qiskit_machine_learning.datasets import breast_cancer"
   ]
  },
  {
   "cell_type": "code",
   "execution_count": null,
   "id": "f385e312-03b2-48f1-b423-d371c0c16c92",
   "metadata": {},
   "outputs": [],
   "source": [
    "training_size = 20\n",
    "test_size = 10\n",
    "feature_dim = 2\n",
    "train_feature, train_label, test_feature, test_label = breast_cancer(training_size, test_size, feature_dim, plot_data=True)"
   ]
  },
  {
   "cell_type": "code",
   "execution_count": null,
   "id": "4facd9e6-cd3e-4fa5-ba3f-c6a6847b9486",
   "metadata": {},
   "outputs": [],
   "source": [
    "feature_map = ZZFeatureMap(feature_dimension=feature_dim, reps=2, entanglement='linear')\n",
    "\n",
    "backend = Aer.get_backend('statevector_simulator')\n",
    "qkernel = QuantumKernel(feature_map=feature_map, quantum_instance=backend)\n",
    "\n",
    "qsvc = QSVC(quantum_kernel=qkernel)\n",
    "qsvc.fit(train_feature,  [x[0] for x in train_label])\n",
    "qlabels_test = qsvc.predict(test_feature)"
   ]
  },
  {
   "cell_type": "code",
   "execution_count": null,
   "id": "a02a1e21-d60d-4903-bbcd-dd1a4812ca28",
   "metadata": {},
   "outputs": [],
   "source": [
    "print([int(x) for x in qlabels_test])"
   ]
  },
  {
   "cell_type": "code",
   "execution_count": null,
   "id": "e0268baf-675b-4829-bcec-3e024d752c68",
   "metadata": {},
   "outputs": [],
   "source": [
    "print([int(x[0]) for x in test_label])"
   ]
  },
  {
   "cell_type": "code",
   "execution_count": null,
   "id": "d5aaf30e-8bb4-408e-94dc-1de07fa479b7",
   "metadata": {},
   "outputs": [],
   "source": [
    "# Evalaute the test accuracy\n",
    "qaccuracy_test = accuracy_score(y_true=[int(x[0]) for x in test_label], y_pred=[int(x) for x in qlabels_test])\n",
    "print(f\"accuracy test: {qaccuracy_test}\")"
   ]
  },
  {
   "cell_type": "code",
   "execution_count": null,
   "id": "90ce6d40-6a86-41fa-889d-f7c3238ec985",
   "metadata": {},
   "outputs": [],
   "source": [
    "svc = SVC(kernel='linear', C = 1.0)\n",
    "svc.fit(train_feature,  [x[0] for x in train_label])\n",
    "labels_test = svc.predict(test_feature)"
   ]
  },
  {
   "cell_type": "code",
   "execution_count": null,
   "id": "3df9aa02-7f4a-4811-aadf-2ed5dc87e0e7",
   "metadata": {},
   "outputs": [],
   "source": [
    "print([int(x) for x in labels_test])"
   ]
  },
  {
   "cell_type": "code",
   "execution_count": null,
   "id": "d16f363b-ab93-49fe-a757-44490805785f",
   "metadata": {},
   "outputs": [],
   "source": [
    "print([int(x[0]) for x in test_label])"
   ]
  },
  {
   "cell_type": "code",
   "execution_count": null,
   "id": "862e2d36-6f38-4265-9713-dde89ed87907",
   "metadata": {},
   "outputs": [],
   "source": [
    "# Evalaute the test accuracy\n",
    "accuracy_test = accuracy_score(y_true=[int(x[0]) for x in test_label], y_pred=[int(x) for x in labels_test])\n",
    "print(f\"accuracy test: {accuracy_test}\")"
   ]
  }
 ],
 "metadata": {
  "kernelspec": {
   "display_name": "Qiskit v0.35.0 (ipykernel)",
   "language": "python",
   "name": "python3"
  },
  "language_info": {
   "codemirror_mode": {
    "name": "ipython",
    "version": 3
   },
   "file_extension": ".py",
   "mimetype": "text/x-python",
   "name": "python",
   "nbconvert_exporter": "python",
   "pygments_lexer": "ipython3",
   "version": "3.8.13"
  },
  "widgets": {
   "application/vnd.jupyter.widget-state+json": {
    "state": {},
    "version_major": 2,
    "version_minor": 0
   }
  }
 },
 "nbformat": 4,
 "nbformat_minor": 5
}
