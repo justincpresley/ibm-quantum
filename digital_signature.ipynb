{
 "cells": [
  {
   "cell_type": "markdown",
   "id": "321bd60d-8703-4e9c-82df-5254ee21f770",
   "metadata": {},
   "source": [
    "Foremost, Libraries."
   ]
  },
  {
   "cell_type": "code",
   "execution_count": null,
   "id": "34d268ae-3c48-4da2-9dec-1e677adf217f",
   "metadata": {},
   "outputs": [],
   "source": [
    "from random import randint\n",
    "from qiskit import QuantumCircuit, QuantumRegister, ClassicalRegister\n",
    "from qiskit import IBMQ, Aer, transpile, assemble, execute\n",
    "from qiskit.visualization import plot_histogram, plot_bloch_multivector\n",
    "from qiskit.extensions import Initialize\n",
    "from qiskit.quantum_info import random_statevector"
   ]
  },
  {
   "cell_type": "markdown",
   "id": "7128b227-fd47-49e1-95f0-811cc2303e31",
   "metadata": {},
   "source": [
    "The following functions allow us to easily switch between using a simulator or an actual system and get results."
   ]
  },
  {
   "cell_type": "code",
   "execution_count": null,
   "id": "a8aa08c4-4714-4bd5-a174-31f63fd5f7bf",
   "metadata": {},
   "outputs": [],
   "source": [
    "# Get a backend based on a type\n",
    "def get_backend(backend_type):\n",
    "    if backend_type == \"simulator\":\n",
    "        return Aer.get_backend('aer_simulator')\n",
    "    elif backend_type == \"system\":\n",
    "        return IBMQ.load_account().get_backend('ibmq_manila')\n",
    "    return None\n",
    "\n",
    "# Get results of a Quantum Circuit\n",
    "def get_results(backend, backend_type, qc):\n",
    "    if backend_type == \"simulator\":\n",
    "        qobj = assemble(transpile(qc, backend))\n",
    "        return backend.run(qobj).result().get_counts()\n",
    "    elif backend_type == \"system\":\n",
    "        return execute(qc,backend,shots=1024).result().get_counts()\n",
    "    return None"
   ]
  },
  {
   "cell_type": "markdown",
   "id": "fd4aeaf3-1dad-4a01-a7dc-8c69bfbd5f54",
   "metadata": {},
   "source": [
    "The following functions allow you to initalize a qubit in a random state. There is also a reverse function given a gate that allows you to return to whatever state you where previously in."
   ]
  },
  {
   "cell_type": "code",
   "execution_count": null,
   "id": "4521cd0e-a89c-435f-a000-3e0bfe45239d",
   "metadata": {},
   "outputs": [],
   "source": [
    "# 1 Qubit Gate - Generate a random state\n",
    "def random_state_gate():\n",
    "    psi = random_statevector(2)\n",
    "    gate = Initialize(psi)\n",
    "    gate.label = \"initializer\"\n",
    "    return gate\n",
    "\n",
    "# N Qubit Gate - Reverse a gate\n",
    "def reverse_gate(gate):\n",
    "    inverse_gate = gate.gates_to_uncompute()\n",
    "    inverse_gate.label = \"disentangler\"\n",
    "    return inverse_gate"
   ]
  },
  {
   "cell_type": "markdown",
   "id": "549799b6-334a-4636-b63a-c21eb71a7a1d",
   "metadata": {},
   "source": [
    "The following functions are designed to help with the Qunatum Digital Signature protocol."
   ]
  },
  {
   "cell_type": "code",
   "execution_count": null,
   "id": "0f4326da-af49-4d41-8916-15f67cc22d00",
   "metadata": {},
   "outputs": [],
   "source": [
    "def create_private_key(length):\n",
    "    return [ (\"\".join([str(randint(0, 1)) for i in range(2)])) for x in range(length * 2) ]\n",
    "\n",
    "def print_private_key(priv_key):\n",
    "    print(f\"Private Key:\")\n",
    "    half = len(priv_key) // 2\n",
    "    for i in range(half):\n",
    "        print(f\"{priv_key[i]} \", end='')\n",
    "    print(end='\\n')\n",
    "    for i in range(half):\n",
    "        print(f\"{priv_key[i+half]} \", end='')\n",
    "\n",
    "def generate_public_key(priv_key):\n",
    "    qc = QuantumCircuit(len(priv_key))\n",
    "    for idx, val in enumerate(priv_key):\n",
    "        if val == \"00\":\n",
    "            pass\n",
    "        elif val == \"01\":\n",
    "            qc.x(idx)\n",
    "        elif val == \"10\":\n",
    "            qc.h(idx)\n",
    "        else:\n",
    "            qc.x(idx)\n",
    "            qc.h(idx)\n",
    "    return qc.to_gate(label=\"public key\")\n",
    "\n",
    "def create_message(length):\n",
    "    return [ (\"\".join([str(randint(0, 1)) for i in range(2)])) for x in range(length) ]\n",
    "\n",
    "def print_msg_with_sig(msg, sig):\n",
    "    print(f\"Classical Message:\")\n",
    "    for i in range(len(msg)):\n",
    "        print(f\"{msg[i]} \", end='')\n",
    "    print(end='\\n')\n",
    "    print(end='\\n')\n",
    "    print(f\"Classical Signature:\")\n",
    "    for i in range(len(sig)):\n",
    "        print(f\"{sig[i]} \", end='')\n",
    "\n",
    "def sign_message(msg, priv_key):\n",
    "    sig = []\n",
    "    for idx, val in enumerate(msg):\n",
    "        if val == \"00\" or val == \"11\":\n",
    "            sig.append(priv_key[idx])\n",
    "        else:\n",
    "            sig.append(priv_key[idx + (len(priv_key)//2)])\n",
    "    return sig\n",
    "\n",
    "def generate_quantum_signature(sig):\n",
    "    qc = QuantumCircuit(len(sig))\n",
    "    for idx, val in enumerate(sig):\n",
    "        if val == \"00\":\n",
    "            pass\n",
    "        elif val == \"01\":\n",
    "            qc.x(idx)\n",
    "        elif val == \"10\":\n",
    "            qc.h(idx)\n",
    "        else:\n",
    "            qc.x(idx)\n",
    "            qc.h(idx)\n",
    "    return qc.to_gate(label=\"quantum signature\")\n",
    "\n",
    "def swap_test_no_measure(qc, res, q1, q2):\n",
    "    qc.h(res)\n",
    "    qc.cswap(res, q1, q2)\n",
    "    qc.h(res)\n",
    "\n",
    "def signature_swap_test(msg, sig, pk, swap):\n",
    "    qc = QuantumCircuit(pk, sig, swap)\n",
    "    for idx, val in enumerate(msg):\n",
    "        if val == \"00\" or val == \"11\":\n",
    "            swap_test_no_measure(qc, swap[idx], pk[idx], sig[idx])\n",
    "        else:\n",
    "            swap_test_no_measure(qc, swap[idx], pk[idx+len(msg)], sig[idx])\n",
    "    return qc.to_gate(label=\"swap test\")"
   ]
  },
  {
   "cell_type": "markdown",
   "id": "fb9ef421-89ee-45fe-9037-9fd844e187de",
   "metadata": {},
   "source": [
    "We now start our logic below."
   ]
  },
  {
   "cell_type": "code",
   "execution_count": null,
   "id": "6b1a082d-60ce-4cea-990f-337ec96d5a5c",
   "metadata": {},
   "outputs": [],
   "source": [
    "length = 6\n",
    "matrix_length = length * 2\n",
    "priv_key = create_private_key(length)\n",
    "\n",
    "print_private_key(priv_key)"
   ]
  },
  {
   "cell_type": "code",
   "execution_count": null,
   "id": "0758d706-8565-4e24-af8d-2d09e4b63bf4",
   "metadata": {},
   "outputs": [],
   "source": [
    "pk = QuantumRegister(length*2, name=\"pk\")\n",
    "sig = QuantumRegister(length, name=\"sig\")\n",
    "swap = QuantumRegister(length, name=\"swap\")\n",
    "res = ClassicalRegister(length, name=\"result\")\n",
    "qc = QuantumCircuit(pk, sig, swap, res)\n",
    "\n",
    "qc.append(generate_public_key(priv_key), pk)"
   ]
  },
  {
   "cell_type": "code",
   "execution_count": null,
   "id": "a3ccedfe-74b6-465d-866c-4c2fd4be6735",
   "metadata": {},
   "outputs": [],
   "source": [
    "# TEMPORARY (JUST FOR PRINTING)\n",
    "pk_temp = QuantumRegister(length*2, name=\"pk\")\n",
    "qc_temp = QuantumCircuit(pk_temp)\n",
    "qc_temp.append(generate_public_key(priv_key), pk_temp)\n",
    "plot_bloch_multivector(qc_temp)"
   ]
  },
  {
   "cell_type": "code",
   "execution_count": null,
   "id": "8afc0476-4c95-43e1-aedb-a5aba1e84bef",
   "metadata": {},
   "outputs": [],
   "source": [
    "message = create_message(length)\n",
    "signature = sign_message(message, priv_key)\n",
    "print_msg_with_sig(message, signature)"
   ]
  },
  {
   "cell_type": "markdown",
   "id": "bf16de8b-6ea7-4c96-9b2c-bad9ddc6ed0e",
   "metadata": {},
   "source": [
    "We know send the message, signature, and quantum public key over from Alice to Bob."
   ]
  },
  {
   "cell_type": "code",
   "execution_count": null,
   "id": "7affab74-ab8d-44d7-8082-b7a22c061fdf",
   "metadata": {},
   "outputs": [],
   "source": [
    "# AN ATTACKER CORRUPTED THE MESSAGE\n",
    "#message = create_message(length)\n",
    "#print_msg_with_sig(message, signature)"
   ]
  },
  {
   "cell_type": "code",
   "execution_count": null,
   "id": "902bd71b-d0c9-42fc-aacf-013f89150a5f",
   "metadata": {
    "tags": []
   },
   "outputs": [],
   "source": [
    "qc.append(generate_quantum_signature(signature), sig)"
   ]
  },
  {
   "cell_type": "code",
   "execution_count": null,
   "id": "d15c4a06-afb6-402b-a0fe-936a4369b500",
   "metadata": {},
   "outputs": [],
   "source": [
    "# TEMPORARY (JUST FOR PRINTING)\n",
    "sig_temp = QuantumRegister(length, name=\"sig\")\n",
    "qc_temp = QuantumCircuit(sig_temp)\n",
    "qc_temp.append(generate_quantum_signature(signature), sig_temp)\n",
    "plot_bloch_multivector(qc_temp)"
   ]
  },
  {
   "cell_type": "code",
   "execution_count": null,
   "id": "493d6cce-d2e3-4dfb-9a3b-4ec2dbb06f9d",
   "metadata": {},
   "outputs": [],
   "source": [
    "qc.append(signature_swap_test(message, sig, pk, swap), range(length*4))\n",
    "qc.measure(swap, res)\n",
    "qc.draw()"
   ]
  },
  {
   "cell_type": "code",
   "execution_count": null,
   "id": "841f8fab-f0f1-48de-b593-2bd6823ca8af",
   "metadata": {
    "tags": []
   },
   "outputs": [],
   "source": [
    "btype = \"simulator\"\n",
    "backend = get_backend(btype)\n",
    "results = get_results(backend, btype, qc)\n",
    "plot_histogram(results)"
   ]
  }
 ],
 "metadata": {
  "kernelspec": {
   "display_name": "Qiskit v0.35.0 (ipykernel)",
   "language": "python",
   "name": "python3"
  },
  "language_info": {
   "codemirror_mode": {
    "name": "ipython",
    "version": 3
   },
   "file_extension": ".py",
   "mimetype": "text/x-python",
   "name": "python",
   "nbconvert_exporter": "python",
   "pygments_lexer": "ipython3",
   "version": "3.8.13"
  },
  "widgets": {
   "application/vnd.jupyter.widget-state+json": {
    "state": {},
    "version_major": 2,
    "version_minor": 0
   }
  }
 },
 "nbformat": 4,
 "nbformat_minor": 5
}
